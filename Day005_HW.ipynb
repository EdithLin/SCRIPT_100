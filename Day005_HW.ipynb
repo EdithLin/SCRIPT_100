{
 "cells": [
  {
   "cell_type": "markdown",
   "metadata": {},
   "source": [
    "# API 資料串接 - 以 Dcard API 實作範例\n",
    "\n",
    "* 利用 urllib 套件的 urlretrieve 方法下載檔案\n",
    "* 了解 Python File I/O 讀檔、寫檔的用法\n",
    "* 能用運用資源管理器 With Statement 優化寫法"
   ]
  },
  {
   "cell_type": "markdown",
   "metadata": {},
   "source": [
    "## 作業目標\n",
    "\n",
    "* 請利用 API: https://www.dcard.tw/_api/forums/pet/posts?popular=true 回答下列問題：\n",
    "\n",
    "1. 這個 API 一次會回傳幾筆資料？每一筆資料包含哪些欄位？\n",
    "2. 取出每一筆資料的「標題」、「貼文時間」、「留言人數」、「按讚人數」\n",
    "3. 計算熱門/非熱門文章的「平均留言人數」與「平均按讚人數」"
   ]
  },
  {
   "cell_type": "code",
   "execution_count": 3,
   "metadata": {},
   "outputs": [
    {
     "name": "stdout",
     "output_type": "stream",
     "text": [
      "30\n"
     ]
    },
    {
     "data": {
      "text/plain": [
       "'\\n不會取每一筆資料包含哪些欄位？\\n'"
      ]
     },
     "execution_count": 3,
     "metadata": {},
     "output_type": "execute_result"
    }
   ],
   "source": [
    "# 1. 這個 API 一次會回傳幾筆資料？每一筆資料包含哪些欄位？\n",
    "\n",
    "import requests\n",
    "import json\n",
    "r = requests.get('https://www.dcard.tw/_api/forums/job/posts?popular=true')\n",
    "response = r.text\n",
    "response_json = json.loads(response)\n",
    "\n",
    "print(len(response_json))\n",
    "'''\n",
    "不會取每一筆資料包含哪些欄位？\n",
    "'''"
   ]
  },
  {
   "cell_type": "code",
   "execution_count": 5,
   "metadata": {},
   "outputs": [
    {
     "name": "stdout",
     "output_type": "stream",
     "text": [
      "<請先點我> 工作板＆實習、打工職缺刊登說明\n",
      "2017-01-01T06:27:39.650Z\n",
      "34\n",
      "664\n",
      "我是影印店打工仔\n",
      "2019-12-11T18:09:16.302Z\n",
      "9\n",
      "85\n",
      "職場的難搞小人同事\n",
      "2019-12-11T14:00:37.250Z\n",
      "14\n",
      "26\n",
      "找工作很迷茫\n",
      "2019-12-11T14:25:18.674Z\n",
      "9\n",
      "25\n",
      "面試考試被殺個措手不及...\n",
      "2019-12-11T16:03:00.303Z\n",
      "7\n",
      "15\n",
      "上班沒事做正常嘛？\n",
      "2019-12-11T11:51:51.239Z\n",
      "11\n",
      "14\n",
      "7-11 打工經驗\n",
      "2019-12-11T07:11:18.375Z\n",
      "7\n",
      "14\n",
      "因為喜歡這份工作跟想要這份工作而打電話\n",
      "2019-12-11T10:37:22.083Z\n",
      "9\n",
      "13\n",
      "會計或銀行的選擇\n",
      "2019-12-11T07:25:23.059Z\n",
      "13\n",
      "13\n",
      "看學歷找工作\n",
      "2019-12-12T06:49:44.067Z\n",
      "14\n",
      "12\n",
      "關於薪資話術你\n",
      "2019-12-11T09:20:11.317Z\n",
      "7\n",
      "11\n",
      "地方學生需要外送員的幫助！\n",
      "2019-12-11T07:57:50.273Z\n",
      "12\n",
      "11\n",
      "國外業務給你們的成就感\n",
      "2019-12-11T13:37:32.875Z\n",
      "2\n",
      "10\n",
      "我都懷疑人生了!!!\n",
      "2019-12-12T12:27:27.854Z\n",
      "4\n",
      "9\n",
      "工作不順\n",
      "2019-12-11T04:40:51.367Z\n",
      "7\n",
      "9\n",
      "【2020蝦皮第二屆儲備幹部計畫 開放申請】\n",
      "2019-12-12T03:37:18.658Z\n",
      "1\n",
      "8\n",
      "薪資這樣合理嗎⋯\n",
      "2019-12-12T03:31:30.806Z\n",
      "4\n",
      "8\n",
      "工作壓力大\n",
      "2019-12-12T00:07:10.952Z\n",
      "4\n",
      "8\n",
      "很常被fire......無助\n",
      "2019-12-11T15:04:58.769Z\n",
      "26\n",
      "8\n",
      "超級可惡的公司！\n",
      "2019-12-11T03:45:21.365Z\n",
      "2\n",
      "8\n",
      "年後轉職\n",
      "2019-12-11T13:46:19.855Z\n",
      "1\n",
      "7\n",
      ":D上班不到兩個個禮拜的我\n",
      "2019-12-12T11:40:44.675Z\n",
      "5\n",
      "6\n",
      "既期待又害怕\n",
      "2019-12-12T04:39:34.353Z\n",
      "6\n",
      "6\n",
      "該怎麼檢討自己哪裡出了問題\n",
      "2019-12-11T09:43:43.909Z\n",
      "3\n",
      "6\n",
      "關於想要應徵康是美的一些小問題\n",
      "2019-12-11T04:02:36.278Z\n",
      "4\n",
      "6\n",
      "老闆媳婦是朋友真的很爽\n",
      "2019-12-12T10:35:51.053Z\n",
      "4\n",
      "5\n",
      "面試官在履歷上做的筆記？\n",
      "2019-12-12T07:52:23.145Z\n",
      "4\n",
      "5\n",
      "#徵才 新加坡華文幼教老師\n",
      "2019-12-12T06:25:10.786Z\n",
      "0\n",
      "5\n",
      "星宇航空行政助理\n",
      "2019-12-12T03:14:43.737Z\n",
      "6\n",
      "5\n",
      "賺那麼多幹嘛\n",
      "2019-12-12T02:34:36.993Z\n",
      "3\n",
      "5\n"
     ]
    }
   ],
   "source": [
    "# 2. 取出每一筆資料的「標題」、「貼文時間」、「留言人數」、「按讚人數」\n",
    "for x in response_json:\n",
    "    print(x['title'])\n",
    "    print(x['createdAt']) \n",
    "    print(x['commentCount'])\n",
    "    print(x['likeCount'])\n"
   ]
  },
  {
   "cell_type": "code",
   "execution_count": 8,
   "metadata": {},
   "outputs": [
    {
     "name": "stdout",
     "output_type": "stream",
     "text": [
      "7.733333333333333 34.233333333333334\n"
     ]
    }
   ],
   "source": [
    "# 3. 計算熱門文章的「平均留言人數」與「平均按讚人數」\n",
    "\n",
    "commentCount = 0\n",
    "likeCount = 0\n",
    "\n",
    "for y in response_json:\n",
    "    commentCount += y['commentCount']\n",
    "    likeCount += y['likeCount']\n",
    "\n",
    "print(commentCount/len(response_json), likeCount/len(response_json))"
   ]
  },
  {
   "cell_type": "code",
   "execution_count": 9,
   "metadata": {},
   "outputs": [
    {
     "name": "stdout",
     "output_type": "stream",
     "text": [
      "2.9 2.1\n"
     ]
    }
   ],
   "source": [
    "#4. 計算非熱門文章的「平均留言人數」與「平均按讚人數」\n",
    "r = requests.get('https://www.dcard.tw/_api/forums/job/posts?popular=false')\n",
    "response = r.text\n",
    "data = json.loads(response)\n",
    "commentCount = 0\n",
    "likeCount = 0\n",
    "for d in data:\n",
    "    commentCount += d['commentCount']\n",
    "    likeCount += d['likeCount']\n",
    "\n",
    "print(commentCount/len(data), likeCount/len(data))"
   ]
  },
  {
   "cell_type": "code",
   "execution_count": null,
   "metadata": {},
   "outputs": [],
   "source": []
  }
 ],
 "metadata": {
  "kernelspec": {
   "display_name": "Python 3",
   "language": "python",
   "name": "python3"
  },
  "language_info": {
   "codemirror_mode": {
    "name": "ipython",
    "version": 3
   },
   "file_extension": ".py",
   "mimetype": "text/x-python",
   "name": "python",
   "nbconvert_exporter": "python",
   "pygments_lexer": "ipython3",
   "version": "3.7.5"
  }
 },
 "nbformat": 4,
 "nbformat_minor": 2
}
