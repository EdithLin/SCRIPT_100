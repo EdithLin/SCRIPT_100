{
 "cells": [
  {
   "cell_type": "markdown",
   "metadata": {},
   "source": [
    "# API 資料串接 - 以 知乎 API 實作範例\n",
    "\n",
    "\n",
    "\n",
    "* 了解知乎 API 使用方式與回傳內容\n",
    "* 撰寫程式存取 API 且添加標頭\n",
    "\n",
    "\n"
   ]
  },
  {
   "cell_type": "markdown",
   "metadata": {},
   "source": [
    "## 作業目標\n",
    "\n",
    "* 根據範例提供的 API ，完成以下問題：\n",
    "\n",
    "    1. 取出知乎問題發問時間\n",
    "    2. 取出第一筆與最後一筆回答的時間\n"
   ]
  },
  {
   "cell_type": "markdown",
   "metadata": {},
   "source": [
    "### 1. 取出知乎問題發問時間"
   ]
  },
  {
   "cell_type": "code",
   "execution_count": 5,
   "metadata": {},
   "outputs": [
    {
     "data": {
      "text/plain": [
       "datetime.datetime(2017, 2, 6, 22, 10, 29)"
      ]
     },
     "execution_count": 5,
     "metadata": {},
     "output_type": "execute_result"
    }
   ],
   "source": [
    "# 1. 取出知乎問題發問時間\n",
    "\n",
    "import requests\n",
    "import json\n",
    "import datetime\n",
    "headers = {'user-agent' : 'my-app/0.0.5'} #user-agent內容可以隨便寫\n",
    "r = requests.get('https://www.zhihu.com/api/v4/questions/55493026/answers', headers = headers)\n",
    "response = json.loads(r.text) \n",
    "response\n",
    "\n",
    "y = []\n",
    "for x in range(len(response)):\n",
    "    y.append(response['data'][x]['question']['created'])\n",
    "\n",
    "'''\n",
    "轉換時間\n",
    "'''\n",
    "time_date = datetime.datetime.fromtimestamp(y[0])\n",
    "time_date"
   ]
  },
  {
   "cell_type": "markdown",
   "metadata": {},
   "source": [
    "### 2. 取出第一筆與最後一筆回答的時間"
   ]
  },
  {
   "cell_type": "code",
   "execution_count": 6,
   "metadata": {},
   "outputs": [
    {
     "data": {
      "text/plain": [
       "[1557824412, 1493707703]"
      ]
     },
     "execution_count": 6,
     "metadata": {},
     "output_type": "execute_result"
    }
   ],
   "source": [
    "# 2. 取出第一筆與最後一筆回答的時間\n",
    "\n",
    "z = []\n",
    "for x in range(len(response)):\n",
    "    z.append(response['data'][x]['created_time'])\n",
    "z"
   ]
  },
  {
   "cell_type": "code",
   "execution_count": 8,
   "metadata": {},
   "outputs": [
    {
     "name": "stdout",
     "output_type": "stream",
     "text": [
      "1572318426\n",
      "2019-10-29 11:07:06\n"
     ]
    }
   ],
   "source": [
    "#最後一筆發言時間\n",
    "latest = 0\n",
    "for row in response['data']:\n",
    "    if row['created_time']>latest:\n",
    "        latest_answer_time = row['created_time']\n",
    "print(latest_answer_time)\n",
    "latest_answer_time_date = datetime.datetime.fromtimestamp(latest_answer_time)\n",
    "print(latest_answer_time_date)"
   ]
  },
  {
   "cell_type": "code",
   "execution_count": 10,
   "metadata": {},
   "outputs": [
    {
     "name": "stdout",
     "output_type": "stream",
     "text": [
      "1557824412\n",
      "2019-05-14 17:00:12\n"
     ]
    }
   ],
   "source": [
    "#第一筆發言時間\n",
    "first_answer_time = response['data'][0]['created_time']\n",
    "first_answer_time_date = datetime.datetime.fromtimestamp(first_answer_time)\n",
    "print(first_answer_time)\n",
    "print(first_answer_time_date)"
   ]
  },
  {
   "cell_type": "code",
   "execution_count": null,
   "metadata": {},
   "outputs": [],
   "source": []
  }
 ],
 "metadata": {
  "kernelspec": {
   "display_name": "Python 3",
   "language": "python",
   "name": "python3"
  },
  "language_info": {
   "codemirror_mode": {
    "name": "ipython",
    "version": 3
   },
   "file_extension": ".py",
   "mimetype": "text/x-python",
   "name": "python",
   "nbconvert_exporter": "python",
   "pygments_lexer": "ipython3",
   "version": "3.7.5"
  }
 },
 "nbformat": 4,
 "nbformat_minor": 2
}
